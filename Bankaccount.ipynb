{
  "nbformat": 4,
  "nbformat_minor": 0,
  "metadata": {
    "colab": {
      "provenance": [],
      "authorship_tag": "ABX9TyNyH+L7WFwlRefsnUJlffu1",
      "include_colab_link": true
    },
    "kernelspec": {
      "name": "python3",
      "display_name": "Python 3"
    },
    "language_info": {
      "name": "python"
    }
  },
  "cells": [
    {
      "cell_type": "markdown",
      "metadata": {
        "id": "view-in-github",
        "colab_type": "text"
      },
      "source": [
        "<a href=\"https://colab.research.google.com/github/Henry1989-GMC/https-drive.google.com-file-d-1bsBTj7ov8cWyg0VgHANd54AY2juMeHX3-view-usp-sharing/blob/main/Bankaccount.ipynb\" target=\"_parent\"><img src=\"https://colab.research.google.com/assets/colab-badge.svg\" alt=\"Open In Colab\"/></a>"
      ]
    },
    {
      "cell_type": "code",
      "execution_count": 2,
      "metadata": {
        "id": "cBhkYb_wuXRt"
      },
      "outputs": [],
      "source": [
        "class Account:\n",
        "  def __init__(self,account_number:str,account_balance:float,account_holder:str):\n",
        "    self.account_number = account_number\n",
        "    self.account_balance = account_balance\n",
        "    self.account_holder = account_holder\n",
        "\n",
        "\n",
        "\n",
        "  def deposit(self,amount:float):\n",
        "      self.account_balance += amount\n",
        "      return self.account_balance\n",
        "\n",
        "  def withdraw(self,amount:float):\n",
        "      if self.account_balance >= amount:\n",
        "        self.account_balance -= amount\n",
        "        return self.account_balance\n",
        "      else:\n",
        "        return \"Insufficient funds\"\n",
        "\n",
        "  def check_balance(self):\n",
        "      return self.account_balance\n",
        "\n",
        "\n",
        "\n",
        ""
      ]
    },
    {
      "cell_type": "code",
      "source": [
        "#Bank account.py\n",
        "my_account=Account(\"0042689424\", 1000, \"Henry Oduonye\")\n",
        "\n",
        "\n",
        "\n",
        "\n"
      ],
      "metadata": {
        "id": "lL0llM6QTlTy"
      },
      "execution_count": 3,
      "outputs": []
    },
    {
      "cell_type": "code",
      "source": [
        "my_account.account_balance"
      ],
      "metadata": {
        "colab": {
          "base_uri": "https://localhost:8080/"
        },
        "id": "prxstrg-NIdO",
        "outputId": "368aab24-16a5-4d5f-9156-433b6bd8cc3c"
      },
      "execution_count": 4,
      "outputs": [
        {
          "output_type": "execute_result",
          "data": {
            "text/plain": [
              "1000"
            ]
          },
          "metadata": {},
          "execution_count": 4
        }
      ]
    },
    {
      "cell_type": "code",
      "source": [
        "my_account.deposit(5000)"
      ],
      "metadata": {
        "colab": {
          "base_uri": "https://localhost:8080/"
        },
        "id": "fldwanUPOGp9",
        "outputId": "fa4601bd-2fd4-4dec-c100-0173b573b34e"
      },
      "execution_count": 5,
      "outputs": [
        {
          "output_type": "execute_result",
          "data": {
            "text/plain": [
              "6000"
            ]
          },
          "metadata": {},
          "execution_count": 5
        }
      ]
    },
    {
      "cell_type": "code",
      "source": [
        "my_account.withdraw(5500)"
      ],
      "metadata": {
        "colab": {
          "base_uri": "https://localhost:8080/"
        },
        "id": "HNPNcIg_QbTW",
        "outputId": "b600ed57-ccff-47d4-90ef-5e0e7a3df7da"
      },
      "execution_count": 6,
      "outputs": [
        {
          "output_type": "execute_result",
          "data": {
            "text/plain": [
              "500"
            ]
          },
          "metadata": {},
          "execution_count": 6
        }
      ]
    },
    {
      "cell_type": "code",
      "source": [
        "my_account.check_balance()"
      ],
      "metadata": {
        "colab": {
          "base_uri": "https://localhost:8080/"
        },
        "id": "v8iiTk1EVAwn",
        "outputId": "235cec7d-6608-4f92-d113-b5a30f773424"
      },
      "execution_count": 7,
      "outputs": [
        {
          "output_type": "execute_result",
          "data": {
            "text/plain": [
              "500"
            ]
          },
          "metadata": {},
          "execution_count": 7
        }
      ]
    },
    {
      "cell_type": "code",
      "source": [
        "my_account1=Account(\"0041237433\", 3500,\"Christine Okungbowa\")"
      ],
      "metadata": {
        "id": "7fX49dhDY-6P"
      },
      "execution_count": 8,
      "outputs": []
    },
    {
      "cell_type": "code",
      "source": [
        "my_account1.withdraw(5000)"
      ],
      "metadata": {
        "colab": {
          "base_uri": "https://localhost:8080/",
          "height": 36
        },
        "id": "6n0gw-9CdtaA",
        "outputId": "094d0915-83c4-4cf8-c89c-80e1a65a26bf"
      },
      "execution_count": 9,
      "outputs": [
        {
          "output_type": "execute_result",
          "data": {
            "text/plain": [
              "'Insufficient funds'"
            ],
            "application/vnd.google.colaboratory.intrinsic+json": {
              "type": "string"
            }
          },
          "metadata": {},
          "execution_count": 9
        }
      ]
    },
    {
      "cell_type": "code",
      "source": [
        "my_account1.deposit(25000)"
      ],
      "metadata": {
        "colab": {
          "base_uri": "https://localhost:8080/"
        },
        "id": "SpGpw0Q1d6bs",
        "outputId": "70cea172-9ab1-40d5-8036-7c8a0b3207e0"
      },
      "execution_count": 10,
      "outputs": [
        {
          "output_type": "execute_result",
          "data": {
            "text/plain": [
              "28500"
            ]
          },
          "metadata": {},
          "execution_count": 10
        }
      ]
    },
    {
      "cell_type": "code",
      "source": [
        "my_account1.withdraw(27000)"
      ],
      "metadata": {
        "colab": {
          "base_uri": "https://localhost:8080/"
        },
        "id": "O6CzZljtpqFC",
        "outputId": "aaff8579-09fd-4c41-dca5-0cc6edcb380b"
      },
      "execution_count": 11,
      "outputs": [
        {
          "output_type": "execute_result",
          "data": {
            "text/plain": [
              "1500"
            ]
          },
          "metadata": {},
          "execution_count": 11
        }
      ]
    },
    {
      "cell_type": "code",
      "source": [
        "my_account2=Account(\"0035233446\", 50000, \"Taofeek\")"
      ],
      "metadata": {
        "id": "rm4ZUBYGrL7c"
      },
      "execution_count": 12,
      "outputs": []
    },
    {
      "cell_type": "code",
      "source": [
        "my_account2.check_balance()"
      ],
      "metadata": {
        "colab": {
          "base_uri": "https://localhost:8080/"
        },
        "id": "1_0rVbfmrerh",
        "outputId": "1c26b35c-736d-4cc5-d1d1-8db2a0ad89fa"
      },
      "execution_count": 13,
      "outputs": [
        {
          "output_type": "execute_result",
          "data": {
            "text/plain": [
              "50000"
            ]
          },
          "metadata": {},
          "execution_count": 13
        }
      ]
    },
    {
      "cell_type": "code",
      "source": [
        "my_account2.deposit(23000)"
      ],
      "metadata": {
        "colab": {
          "base_uri": "https://localhost:8080/"
        },
        "id": "BPzLtJa3rkfA",
        "outputId": "1bc2610f-fd80-46b5-abb2-1ccef1ca0f2c"
      },
      "execution_count": 14,
      "outputs": [
        {
          "output_type": "execute_result",
          "data": {
            "text/plain": [
              "73000"
            ]
          },
          "metadata": {},
          "execution_count": 14
        }
      ]
    },
    {
      "cell_type": "code",
      "source": [
        "my_account2.withdraw(150000)"
      ],
      "metadata": {
        "colab": {
          "base_uri": "https://localhost:8080/",
          "height": 36
        },
        "id": "-D77lNJkr6mY",
        "outputId": "c04fcb02-3e85-4ff7-f1b8-554c92c63d52"
      },
      "execution_count": 15,
      "outputs": [
        {
          "output_type": "execute_result",
          "data": {
            "text/plain": [
              "'Insufficient funds'"
            ],
            "application/vnd.google.colaboratory.intrinsic+json": {
              "type": "string"
            }
          },
          "metadata": {},
          "execution_count": 15
        }
      ]
    },
    {
      "cell_type": "code",
      "source": [
        "my_account2.withdraw(72000)"
      ],
      "metadata": {
        "colab": {
          "base_uri": "https://localhost:8080/"
        },
        "id": "vB7gOy0ysG7m",
        "outputId": "2f67da68-2524-4de9-e0b9-8fb871b4368f"
      },
      "execution_count": 16,
      "outputs": [
        {
          "output_type": "execute_result",
          "data": {
            "text/plain": [
              "1000"
            ]
          },
          "metadata": {},
          "execution_count": 16
        }
      ]
    },
    {
      "cell_type": "code",
      "source": [],
      "metadata": {
        "id": "4-zCCnXJsOk7"
      },
      "execution_count": null,
      "outputs": []
    }
  ]
}