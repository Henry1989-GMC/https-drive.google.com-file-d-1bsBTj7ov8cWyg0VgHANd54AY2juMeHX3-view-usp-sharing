{
  "nbformat": 4,
  "nbformat_minor": 0,
  "metadata": {
    "colab": {
      "provenance": [],
      "authorship_tag": "ABX9TyNyH+L7WFwlRefsnUJlffu1",
      "include_colab_link": true
    },
    "kernelspec": {
      "name": "python3",
      "display_name": "Python 3"
    },
    "language_info": {
      "name": "python"
    }
  },
  "cells": [
    {
      "cell_type": "markdown",
      "metadata": {
        "id": "view-in-github",
        "colab_type": "text"
      },
      "source": [
        "<a href=\"https://colab.research.google.com/github/Henry1989-GMC/https-drive.google.com-file-d-1bsBTj7ov8cWyg0VgHANd54AY2juMeHX3-view-usp-sharing/blob/main/Untitled5.ipynb\" target=\"_parent\"><img src=\"https://colab.research.google.com/assets/colab-badge.svg\" alt=\"Open In Colab\"/></a>"
      ]
    },
    {
      "cell_type": "code",
      "execution_count": 49,
      "metadata": {
        "id": "cBhkYb_wuXRt"
      },
      "outputs": [],
      "source": [
        "class Account:\n",
        "  def __init__(self,account_number:str,account_balance:float,account_holder:str):\n",
        "    self.account_number = account_number\n",
        "    self.account_balance = account_balance\n",
        "    self.account_holder = account_holder\n",
        "\n",
        "\n",
        "\n",
        "  def deposit(self,amount:float):\n",
        "      self.account_balance += amount\n",
        "      return self.account_balance\n",
        "\n",
        "  def withdraw(self,amount:float):\n",
        "      if self.account_balance >= amount:\n",
        "        self.account_balance -= amount\n",
        "        return self.account_balance\n",
        "      else:\n",
        "        return \"Insufficient funds\"\n",
        "\n",
        "  def check_balance(self):\n",
        "      return self.account_balance\n",
        "\n",
        "\n",
        "\n",
        ""
      ]
    },
    {
      "cell_type": "code",
      "source": [
        "#Bank account.py\n",
        "my_account=Account(\"0042689424\", 1000, \"Henry Oduonye\")\n",
        "\n",
        "\n",
        "\n",
        "\n"
      ],
      "metadata": {
        "id": "lL0llM6QTlTy"
      },
      "execution_count": 55,
      "outputs": []
    },
    {
      "cell_type": "code",
      "source": [
        "my_account.account_balance"
      ],
      "metadata": {
        "colab": {
          "base_uri": "https://localhost:8080/"
        },
        "id": "prxstrg-NIdO",
        "outputId": "ac08c1be-5f9d-4572-f844-bb4e10bbffb3"
      },
      "execution_count": 56,
      "outputs": [
        {
          "output_type": "execute_result",
          "data": {
            "text/plain": [
              "1000"
            ]
          },
          "metadata": {},
          "execution_count": 56
        }
      ]
    },
    {
      "cell_type": "code",
      "source": [
        "my_account.deposit(5000)"
      ],
      "metadata": {
        "colab": {
          "base_uri": "https://localhost:8080/"
        },
        "id": "fldwanUPOGp9",
        "outputId": "62a30aa9-6916-499a-ca12-e5751e8fd59b"
      },
      "execution_count": 60,
      "outputs": [
        {
          "output_type": "execute_result",
          "data": {
            "text/plain": [
              "5500"
            ]
          },
          "metadata": {},
          "execution_count": 60
        }
      ]
    },
    {
      "cell_type": "code",
      "source": [
        "my_account.withdraw(5500)"
      ],
      "metadata": {
        "colab": {
          "base_uri": "https://localhost:8080/"
        },
        "id": "HNPNcIg_QbTW",
        "outputId": "5bb4dad5-fa5b-42e5-b6a8-99fe8d412269"
      },
      "execution_count": 61,
      "outputs": [
        {
          "output_type": "execute_result",
          "data": {
            "text/plain": [
              "0"
            ]
          },
          "metadata": {},
          "execution_count": 61
        }
      ]
    },
    {
      "cell_type": "code",
      "source": [
        "my_account.check_balance()"
      ],
      "metadata": {
        "colab": {
          "base_uri": "https://localhost:8080/"
        },
        "id": "v8iiTk1EVAwn",
        "outputId": "2b1861af-f8d7-4650-d691-1da3109c5390"
      },
      "execution_count": 62,
      "outputs": [
        {
          "output_type": "execute_result",
          "data": {
            "text/plain": [
              "0"
            ]
          },
          "metadata": {},
          "execution_count": 62
        }
      ]
    },
    {
      "cell_type": "code",
      "source": [
        "my_account1=Account(\"0041237433\", 3500,\"Christine Okungbowa\")"
      ],
      "metadata": {
        "id": "7fX49dhDY-6P"
      },
      "execution_count": 63,
      "outputs": []
    },
    {
      "cell_type": "code",
      "source": [
        "my_account1.withdraw(5000)"
      ],
      "metadata": {
        "colab": {
          "base_uri": "https://localhost:8080/",
          "height": 36
        },
        "id": "6n0gw-9CdtaA",
        "outputId": "ad02092c-5d14-4576-ec5d-ab6869e067ca"
      },
      "execution_count": 64,
      "outputs": [
        {
          "output_type": "execute_result",
          "data": {
            "text/plain": [
              "'Insufficient funds'"
            ],
            "application/vnd.google.colaboratory.intrinsic+json": {
              "type": "string"
            }
          },
          "metadata": {},
          "execution_count": 64
        }
      ]
    },
    {
      "cell_type": "code",
      "source": [
        "my_account1.deposit(25000)"
      ],
      "metadata": {
        "colab": {
          "base_uri": "https://localhost:8080/"
        },
        "id": "SpGpw0Q1d6bs",
        "outputId": "fde76bb5-f2b7-4878-b8e3-d7fa934756f9"
      },
      "execution_count": 65,
      "outputs": [
        {
          "output_type": "execute_result",
          "data": {
            "text/plain": [
              "28500"
            ]
          },
          "metadata": {},
          "execution_count": 65
        }
      ]
    },
    {
      "cell_type": "code",
      "source": [
        "my_account1.withdraw(27000)"
      ],
      "metadata": {
        "colab": {
          "base_uri": "https://localhost:8080/"
        },
        "id": "O6CzZljtpqFC",
        "outputId": "f443631d-1fb4-4ff2-8494-17d3868292e2"
      },
      "execution_count": 66,
      "outputs": [
        {
          "output_type": "execute_result",
          "data": {
            "text/plain": [
              "1500"
            ]
          },
          "metadata": {},
          "execution_count": 66
        }
      ]
    },
    {
      "cell_type": "code",
      "source": [
        "my_account2=Account(\"0035233446\", 50000, \"Taofeek\")"
      ],
      "metadata": {
        "id": "rm4ZUBYGrL7c"
      },
      "execution_count": 68,
      "outputs": []
    },
    {
      "cell_type": "code",
      "source": [
        "my_account2.check_balance()"
      ],
      "metadata": {
        "colab": {
          "base_uri": "https://localhost:8080/"
        },
        "id": "1_0rVbfmrerh",
        "outputId": "4db36bb1-7f7b-4f2e-8ce0-a6a7c6a91a0a"
      },
      "execution_count": 69,
      "outputs": [
        {
          "output_type": "execute_result",
          "data": {
            "text/plain": [
              "50000"
            ]
          },
          "metadata": {},
          "execution_count": 69
        }
      ]
    },
    {
      "cell_type": "code",
      "source": [
        "my_account2.deposit(23000)"
      ],
      "metadata": {
        "colab": {
          "base_uri": "https://localhost:8080/"
        },
        "id": "BPzLtJa3rkfA",
        "outputId": "ee433646-9ae3-42f8-cd6d-7e18efa6c5b2"
      },
      "execution_count": 70,
      "outputs": [
        {
          "output_type": "execute_result",
          "data": {
            "text/plain": [
              "73000"
            ]
          },
          "metadata": {},
          "execution_count": 70
        }
      ]
    },
    {
      "cell_type": "code",
      "source": [
        "my_account2.withdraw(150000)"
      ],
      "metadata": {
        "colab": {
          "base_uri": "https://localhost:8080/",
          "height": 36
        },
        "id": "-D77lNJkr6mY",
        "outputId": "c85eeec4-c645-4a1c-cfa9-16b22d57e5ea"
      },
      "execution_count": 71,
      "outputs": [
        {
          "output_type": "execute_result",
          "data": {
            "text/plain": [
              "'Insufficient funds'"
            ],
            "application/vnd.google.colaboratory.intrinsic+json": {
              "type": "string"
            }
          },
          "metadata": {},
          "execution_count": 71
        }
      ]
    },
    {
      "cell_type": "code",
      "source": [
        "my_account2.withdraw(72000)"
      ],
      "metadata": {
        "colab": {
          "base_uri": "https://localhost:8080/"
        },
        "id": "vB7gOy0ysG7m",
        "outputId": "927de851-89dd-4f87-9d06-9bf69d079d74"
      },
      "execution_count": 72,
      "outputs": [
        {
          "output_type": "execute_result",
          "data": {
            "text/plain": [
              "1000"
            ]
          },
          "metadata": {},
          "execution_count": 72
        }
      ]
    },
    {
      "cell_type": "code",
      "source": [],
      "metadata": {
        "id": "4-zCCnXJsOk7"
      },
      "execution_count": null,
      "outputs": []
    }
  ]
}