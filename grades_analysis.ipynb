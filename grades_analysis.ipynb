{
  "nbformat": 4,
  "nbformat_minor": 0,
  "metadata": {
    "colab": {
      "provenance": [],
      "authorship_tag": "ABX9TyMf2EilDZKFCpomVSxYT8um",
      "include_colab_link": true
    },
    "kernelspec": {
      "name": "python3",
      "display_name": "Python 3"
    },
    "language_info": {
      "name": "python"
    }
  },
  "cells": [
    {
      "cell_type": "markdown",
      "metadata": {
        "id": "view-in-github",
        "colab_type": "text"
      },
      "source": [
        "<a href=\"https://colab.research.google.com/github/Henry1989-GMC/https-drive.google.com-file-d-1bsBTj7ov8cWyg0VgHANd54AY2juMeHX3-view-usp-sharing/blob/main/grades_analysis.ipynb\" target=\"_parent\"><img src=\"https://colab.research.google.com/assets/colab-badge.svg\" alt=\"Open In Colab\"/></a>"
      ]
    },
    {
      "cell_type": "code",
      "source": [
        "#import numpy\n",
        "import numpy as np\n"
      ],
      "metadata": {
        "id": "t5aQkCugrugD"
      },
      "execution_count": null,
      "outputs": []
    },
    {
      "cell_type": "code",
      "source": [
        "# assign the array to a variable \"grades\"\n",
        "grades=np.array( [85, 90, 88, 92, 95, 80, 75, 98, 89, 83])"
      ],
      "metadata": {
        "id": "nms3vYnXf8zS"
      },
      "execution_count": null,
      "outputs": []
    },
    {
      "cell_type": "code",
      "source": [
        "#Calculating the mean of the array\n",
        "np.mean(grades)"
      ],
      "metadata": {
        "colab": {
          "base_uri": "https://localhost:8080/"
        },
        "id": "ouSRikXqk3Ku",
        "outputId": "883f185a-89be-4488-beff-7023deaf82fe"
      },
      "execution_count": null,
      "outputs": [
        {
          "output_type": "execute_result",
          "data": {
            "text/plain": [
              "87.5"
            ]
          },
          "metadata": {},
          "execution_count": 19
        }
      ]
    },
    {
      "cell_type": "code",
      "source": [
        "#Calculating the median of the array\n",
        "np.median(grades)"
      ],
      "metadata": {
        "colab": {
          "base_uri": "https://localhost:8080/"
        },
        "id": "Hm8Culkzk_ge",
        "outputId": "c710faa2-9d5b-4961-e250-70d0c177d1f7"
      },
      "execution_count": null,
      "outputs": [
        {
          "output_type": "execute_result",
          "data": {
            "text/plain": [
              "88.5"
            ]
          },
          "metadata": {},
          "execution_count": 20
        }
      ]
    },
    {
      "cell_type": "code",
      "source": [
        "# Calculating the standard deviation of the array\n",
        "np.std(grades)"
      ],
      "metadata": {
        "colab": {
          "base_uri": "https://localhost:8080/"
        },
        "id": "51h0o6z_mBln",
        "outputId": "5b68c733-82ce-40fd-e3c3-0f037547242e"
      },
      "execution_count": null,
      "outputs": [
        {
          "output_type": "execute_result",
          "data": {
            "text/plain": [
              "6.591661399070799"
            ]
          },
          "metadata": {},
          "execution_count": 21
        }
      ]
    },
    {
      "cell_type": "code",
      "source": [
        "#Maximum grade of the array\n",
        "np.max(grades)"
      ],
      "metadata": {
        "colab": {
          "base_uri": "https://localhost:8080/"
        },
        "id": "XuIK-29Bnbfy",
        "outputId": "a7c8bc12-3836-45da-a367-8c88f2e77342"
      },
      "execution_count": null,
      "outputs": [
        {
          "output_type": "execute_result",
          "data": {
            "text/plain": [
              "98"
            ]
          },
          "metadata": {},
          "execution_count": 22
        }
      ]
    },
    {
      "cell_type": "code",
      "source": [
        "#Minimum grade of the array\n",
        "np.min(grades)"
      ],
      "metadata": {
        "colab": {
          "base_uri": "https://localhost:8080/"
        },
        "id": "8vcu4v9Enzw2",
        "outputId": "18e0b87b-f5f4-465d-a477-a5c5aa61f292"
      },
      "execution_count": null,
      "outputs": [
        {
          "output_type": "execute_result",
          "data": {
            "text/plain": [
              "75"
            ]
          },
          "metadata": {},
          "execution_count": 23
        }
      ]
    },
    {
      "cell_type": "code",
      "source": [
        "# Arranging the grades in ascending order\n",
        "np.sort(grades)"
      ],
      "metadata": {
        "colab": {
          "base_uri": "https://localhost:8080/"
        },
        "id": "_P1Cd0B_n-VN",
        "outputId": "6591e1a9-d727-4e67-a005-13a1d4a9fc66"
      },
      "execution_count": null,
      "outputs": [
        {
          "output_type": "execute_result",
          "data": {
            "text/plain": [
              "array([75, 80, 83, 85, 88, 89, 90, 92, 95, 98])"
            ]
          },
          "metadata": {},
          "execution_count": 24
        }
      ]
    },
    {
      "cell_type": "code",
      "source": [
        "#Showing the position of the highest grade\n",
        "np.argmax(grades)"
      ],
      "metadata": {
        "colab": {
          "base_uri": "https://localhost:8080/"
        },
        "id": "QACuhCZEoUC0",
        "outputId": "b66ae80e-2e89-40d7-bbce-5ee47c93765e"
      },
      "execution_count": null,
      "outputs": [
        {
          "output_type": "execute_result",
          "data": {
            "text/plain": [
              "7"
            ]
          },
          "metadata": {},
          "execution_count": 25
        }
      ]
    },
    {
      "cell_type": "code",
      "source": [
        "# Showing the number of grades which are greater than 90\n",
        "np.count_nonzero(grades>90)"
      ],
      "metadata": {
        "colab": {
          "base_uri": "https://localhost:8080/"
        },
        "id": "zi-FgNzWrQNM",
        "outputId": "6f25d2af-77d8-4619-f537-7fdfb4574a87"
      },
      "execution_count": 38,
      "outputs": [
        {
          "output_type": "execute_result",
          "data": {
            "text/plain": [
              "3"
            ]
          },
          "metadata": {},
          "execution_count": 38
        }
      ]
    },
    {
      "cell_type": "code",
      "source": [
        "# showing the percentage of grades greater than 90\n",
        "percentage_above_90=np.mean(grades>90)*100\n",
        "percentage_above_90"
      ],
      "metadata": {
        "colab": {
          "base_uri": "https://localhost:8080/"
        },
        "id": "MUZMNzUC6Cpn",
        "outputId": "4a79be98-6fd7-43d4-f187-d5cd1123ee3c"
      },
      "execution_count": 47,
      "outputs": [
        {
          "output_type": "execute_result",
          "data": {
            "text/plain": [
              "30.0"
            ]
          },
          "metadata": {},
          "execution_count": 47
        }
      ]
    },
    {
      "cell_type": "code",
      "source": [
        "# showing the percentage of grades greater than 90\n",
        "np.count_nonzero(grades>90)/len(grades)*100"
      ],
      "metadata": {
        "colab": {
          "base_uri": "https://localhost:8080/"
        },
        "id": "mFkaGQ8cumv1",
        "outputId": "fdeb476f-f982-40c6-a632-488a61d317f8"
      },
      "execution_count": 41,
      "outputs": [
        {
          "output_type": "execute_result",
          "data": {
            "text/plain": [
              "30.0"
            ]
          },
          "metadata": {},
          "execution_count": 41
        }
      ]
    },
    {
      "cell_type": "code",
      "source": [
        "# showing the percentage of grades less than 75\n",
        "percentage_below_75=np.mean(grades<75)*100\n",
        "percentage_below_75"
      ],
      "metadata": {
        "id": "6h9aZgDYxpb-",
        "colab": {
          "base_uri": "https://localhost:8080/"
        },
        "outputId": "f246c42b-1527-4716-dbdf-50a5eee59356"
      },
      "execution_count": 42,
      "outputs": [
        {
          "output_type": "execute_result",
          "data": {
            "text/plain": [
              "0.0"
            ]
          },
          "metadata": {},
          "execution_count": 42
        }
      ]
    },
    {
      "cell_type": "code",
      "source": [
        "#Extracting all the grades above 90 assigning them to a variable \"high performers\"\n",
        "high_performers = grades[grades > 90]\n",
        "high_performers"
      ],
      "metadata": {
        "colab": {
          "base_uri": "https://localhost:8080/"
        },
        "id": "eD_lZNAB22nA",
        "outputId": "48de33ee-d762-461c-a5d1-96a4f84c5af8"
      },
      "execution_count": 45,
      "outputs": [
        {
          "output_type": "execute_result",
          "data": {
            "text/plain": [
              "array([92, 95, 98])"
            ]
          },
          "metadata": {},
          "execution_count": 45
        }
      ]
    },
    {
      "cell_type": "code",
      "source": [
        "#Extracting all the grades above 75 assigning them to a variable \"passing grades\"\n",
        "passing_grades = grades[grades > 75]\n",
        "passing_grades"
      ],
      "metadata": {
        "colab": {
          "base_uri": "https://localhost:8080/"
        },
        "id": "xvAGpdfR4hr6",
        "outputId": "559b3f3d-aa47-43ed-825d-e1784da44a2b"
      },
      "execution_count": 46,
      "outputs": [
        {
          "output_type": "execute_result",
          "data": {
            "text/plain": [
              "array([85, 90, 88, 92, 95, 80, 98, 89, 83])"
            ]
          },
          "metadata": {},
          "execution_count": 46
        }
      ]
    },
    {
      "cell_type": "code",
      "source": [],
      "metadata": {
        "id": "Irc26cJv5qc5"
      },
      "execution_count": null,
      "outputs": []
    }
  ]
}